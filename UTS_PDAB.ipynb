{
 "cells": [
  {
   "cell_type": "code",
   "execution_count": 3,
   "id": "6345b599",
   "metadata": {},
   "outputs": [],
   "source": [
    "import pandas as pd\n",
    "import matplotlib.pyplot as plt\n",
    "import seaborn as sns\n",
    "from sklearn.preprocessing import StandardScaler\n",
    "from sklearn.model_selection import train_test_split\n",
    "from sklearn.preprocessing import LabelEncoder\n",
    "from sklearn.linear_model import LogisticRegression\n",
    "from sklearn.tree import DecisionTreeClassifier\n",
    "from sklearn.neighbors import KNeighborsClassifier\n",
    "from sklearn.metrics import classification_report, accuracy_score\n",
    "from sklearn.preprocessing import LabelEncoder, StandardScaler\n",
    "from sklearn.impute import SimpleImputer\n",
    "from sklearn.ensemble import RandomForestClassifier\n",
    "from sklearn.metrics import accuracy_score, precision_score, recall_score, f1_score\n",
    "\n",
    "\n"
   ]
  },
  {
   "cell_type": "code",
   "execution_count": 4,
   "id": "ada06de6",
   "metadata": {},
   "outputs": [],
   "source": [
    "file_path = 'C:/Users/USER/OneDrive/Dokumen/Kulyah smt 4/Penambangan Data dan Analisis Bisnis/Data/Titanic-Dataset.csv'\n",
    "df = pd.read_csv(file_path)"
   ]
  },
  {
   "cell_type": "markdown",
   "id": "2307290f",
   "metadata": {},
   "source": [
    "## 1. Eksplorasi Awal"
   ]
  },
  {
   "cell_type": "code",
   "execution_count": 5,
   "id": "8b34621c",
   "metadata": {},
   "outputs": [
    {
     "name": "stdout",
     "output_type": "stream",
     "text": [
      "<class 'pandas.core.frame.DataFrame'>\n",
      "RangeIndex: 891 entries, 0 to 890\n",
      "Data columns (total 12 columns):\n",
      " #   Column       Non-Null Count  Dtype  \n",
      "---  ------       --------------  -----  \n",
      " 0   PassengerId  891 non-null    int64  \n",
      " 1   Survived     891 non-null    int64  \n",
      " 2   Pclass       891 non-null    int64  \n",
      " 3   Name         891 non-null    object \n",
      " 4   Sex          891 non-null    object \n",
      " 5   Age          714 non-null    float64\n",
      " 6   SibSp        891 non-null    int64  \n",
      " 7   Parch        891 non-null    int64  \n",
      " 8   Ticket       891 non-null    object \n",
      " 9   Fare         891 non-null    float64\n",
      " 10  Cabin        204 non-null    object \n",
      " 11  Embarked     889 non-null    object \n",
      "dtypes: float64(2), int64(5), object(5)\n",
      "memory usage: 83.7+ KB\n"
     ]
    }
   ],
   "source": [
    "df.info()"
   ]
  },
  {
   "cell_type": "code",
   "execution_count": 6,
   "id": "8dd467fa",
   "metadata": {},
   "outputs": [
    {
     "data": {
      "text/html": [
       "<div>\n",
       "<style scoped>\n",
       "    .dataframe tbody tr th:only-of-type {\n",
       "        vertical-align: middle;\n",
       "    }\n",
       "\n",
       "    .dataframe tbody tr th {\n",
       "        vertical-align: top;\n",
       "    }\n",
       "\n",
       "    .dataframe thead th {\n",
       "        text-align: right;\n",
       "    }\n",
       "</style>\n",
       "<table border=\"1\" class=\"dataframe\">\n",
       "  <thead>\n",
       "    <tr style=\"text-align: right;\">\n",
       "      <th></th>\n",
       "      <th>PassengerId</th>\n",
       "      <th>Survived</th>\n",
       "      <th>Pclass</th>\n",
       "      <th>Name</th>\n",
       "      <th>Sex</th>\n",
       "      <th>Age</th>\n",
       "      <th>SibSp</th>\n",
       "      <th>Parch</th>\n",
       "      <th>Ticket</th>\n",
       "      <th>Fare</th>\n",
       "      <th>Cabin</th>\n",
       "      <th>Embarked</th>\n",
       "    </tr>\n",
       "  </thead>\n",
       "  <tbody>\n",
       "    <tr>\n",
       "      <th>0</th>\n",
       "      <td>1</td>\n",
       "      <td>0</td>\n",
       "      <td>3</td>\n",
       "      <td>Braund, Mr. Owen Harris</td>\n",
       "      <td>male</td>\n",
       "      <td>22.0</td>\n",
       "      <td>1</td>\n",
       "      <td>0</td>\n",
       "      <td>A/5 21171</td>\n",
       "      <td>7.2500</td>\n",
       "      <td>NaN</td>\n",
       "      <td>S</td>\n",
       "    </tr>\n",
       "    <tr>\n",
       "      <th>1</th>\n",
       "      <td>2</td>\n",
       "      <td>1</td>\n",
       "      <td>1</td>\n",
       "      <td>Cumings, Mrs. John Bradley (Florence Briggs Th...</td>\n",
       "      <td>female</td>\n",
       "      <td>38.0</td>\n",
       "      <td>1</td>\n",
       "      <td>0</td>\n",
       "      <td>PC 17599</td>\n",
       "      <td>71.2833</td>\n",
       "      <td>C85</td>\n",
       "      <td>C</td>\n",
       "    </tr>\n",
       "    <tr>\n",
       "      <th>2</th>\n",
       "      <td>3</td>\n",
       "      <td>1</td>\n",
       "      <td>3</td>\n",
       "      <td>Heikkinen, Miss. Laina</td>\n",
       "      <td>female</td>\n",
       "      <td>26.0</td>\n",
       "      <td>0</td>\n",
       "      <td>0</td>\n",
       "      <td>STON/O2. 3101282</td>\n",
       "      <td>7.9250</td>\n",
       "      <td>NaN</td>\n",
       "      <td>S</td>\n",
       "    </tr>\n",
       "    <tr>\n",
       "      <th>3</th>\n",
       "      <td>4</td>\n",
       "      <td>1</td>\n",
       "      <td>1</td>\n",
       "      <td>Futrelle, Mrs. Jacques Heath (Lily May Peel)</td>\n",
       "      <td>female</td>\n",
       "      <td>35.0</td>\n",
       "      <td>1</td>\n",
       "      <td>0</td>\n",
       "      <td>113803</td>\n",
       "      <td>53.1000</td>\n",
       "      <td>C123</td>\n",
       "      <td>S</td>\n",
       "    </tr>\n",
       "    <tr>\n",
       "      <th>4</th>\n",
       "      <td>5</td>\n",
       "      <td>0</td>\n",
       "      <td>3</td>\n",
       "      <td>Allen, Mr. William Henry</td>\n",
       "      <td>male</td>\n",
       "      <td>35.0</td>\n",
       "      <td>0</td>\n",
       "      <td>0</td>\n",
       "      <td>373450</td>\n",
       "      <td>8.0500</td>\n",
       "      <td>NaN</td>\n",
       "      <td>S</td>\n",
       "    </tr>\n",
       "  </tbody>\n",
       "</table>\n",
       "</div>"
      ],
      "text/plain": [
       "   PassengerId  Survived  Pclass  \\\n",
       "0            1         0       3   \n",
       "1            2         1       1   \n",
       "2            3         1       3   \n",
       "3            4         1       1   \n",
       "4            5         0       3   \n",
       "\n",
       "                                                Name     Sex   Age  SibSp  \\\n",
       "0                            Braund, Mr. Owen Harris    male  22.0      1   \n",
       "1  Cumings, Mrs. John Bradley (Florence Briggs Th...  female  38.0      1   \n",
       "2                             Heikkinen, Miss. Laina  female  26.0      0   \n",
       "3       Futrelle, Mrs. Jacques Heath (Lily May Peel)  female  35.0      1   \n",
       "4                           Allen, Mr. William Henry    male  35.0      0   \n",
       "\n",
       "   Parch            Ticket     Fare Cabin Embarked  \n",
       "0      0         A/5 21171   7.2500   NaN        S  \n",
       "1      0          PC 17599  71.2833   C85        C  \n",
       "2      0  STON/O2. 3101282   7.9250   NaN        S  \n",
       "3      0            113803  53.1000  C123        S  \n",
       "4      0            373450   8.0500   NaN        S  "
      ]
     },
     "execution_count": 6,
     "metadata": {},
     "output_type": "execute_result"
    }
   ],
   "source": [
    "df.head()"
   ]
  },
  {
   "cell_type": "code",
   "execution_count": 7,
   "id": "14fd84dd",
   "metadata": {},
   "outputs": [
    {
     "data": {
      "text/plain": [
       "891"
      ]
     },
     "execution_count": 7,
     "metadata": {},
     "output_type": "execute_result"
    }
   ],
   "source": [
    "# 1a. Jumlah total penumpang\n",
    "total_passengers = len(df)\n",
    "total_passengers"
   ]
  },
  {
   "cell_type": "code",
   "execution_count": 8,
   "id": "92ac8f18",
   "metadata": {},
   "outputs": [
    {
     "data": {
      "text/plain": [
       "Survived\n",
       "Tidak Selamat    549\n",
       "Selamat          342\n",
       "Name: count, dtype: int64"
      ]
     },
     "execution_count": 8,
     "metadata": {},
     "output_type": "execute_result"
    }
   ],
   "source": [
    "# b. Jumlah penumpang selamat dan tidak selamat\n",
    "survival_counts = df['Survived'].value_counts().rename(index={0: 'Tidak Selamat', 1: 'Selamat'})\n",
    "survival_counts"
   ]
  },
  {
   "cell_type": "code",
   "execution_count": null,
   "id": "351718bd",
   "metadata": {},
   "outputs": [
    {
     "data": {
      "text/plain": [
       "'Rata-rata umur penumpang adalah: 29.70 tahun'"
      ]
     },
     "execution_count": 9,
     "metadata": {},
     "output_type": "execute_result"
    }
   ],
   "source": [
    "# rata-rata umur penumpang\n",
    "rata_rata_umur = df['Age'].mean()\n",
    "(f\"Rata-rata umur penumpang adalah: {rata_rata_umur:.2f} tahun\")\n"
   ]
  },
  {
   "cell_type": "code",
   "execution_count": 10,
   "id": "86c5b310",
   "metadata": {},
   "outputs": [
    {
     "data": {
      "text/html": [
       "<div>\n",
       "<style scoped>\n",
       "    .dataframe tbody tr th:only-of-type {\n",
       "        vertical-align: middle;\n",
       "    }\n",
       "\n",
       "    .dataframe tbody tr th {\n",
       "        vertical-align: top;\n",
       "    }\n",
       "\n",
       "    .dataframe thead th {\n",
       "        text-align: right;\n",
       "    }\n",
       "</style>\n",
       "<table border=\"1\" class=\"dataframe\">\n",
       "  <thead>\n",
       "    <tr style=\"text-align: right;\">\n",
       "      <th></th>\n",
       "      <th>Name</th>\n",
       "      <th>Age</th>\n",
       "    </tr>\n",
       "  </thead>\n",
       "  <tbody>\n",
       "    <tr>\n",
       "      <th>803</th>\n",
       "      <td>Thomas, Master. Assad Alexander</td>\n",
       "      <td>0.42</td>\n",
       "    </tr>\n",
       "  </tbody>\n",
       "</table>\n",
       "</div>"
      ],
      "text/plain": [
       "                                Name   Age\n",
       "803  Thomas, Master. Assad Alexander  0.42"
      ]
     },
     "execution_count": 10,
     "metadata": {},
     "output_type": "execute_result"
    }
   ],
   "source": [
    "# penumpang termuda\n",
    "umur_termuda = df['Age'].min()\n",
    "penumpang_termuda = df[df['Age'] == umur_termuda][['Name', 'Age']]\n",
    "penumpang_termuda\n"
   ]
  },
  {
   "cell_type": "code",
   "execution_count": 11,
   "id": "5bd5b1a6",
   "metadata": {},
   "outputs": [
    {
     "data": {
      "text/html": [
       "<div>\n",
       "<style scoped>\n",
       "    .dataframe tbody tr th:only-of-type {\n",
       "        vertical-align: middle;\n",
       "    }\n",
       "\n",
       "    .dataframe tbody tr th {\n",
       "        vertical-align: top;\n",
       "    }\n",
       "\n",
       "    .dataframe thead th {\n",
       "        text-align: right;\n",
       "    }\n",
       "</style>\n",
       "<table border=\"1\" class=\"dataframe\">\n",
       "  <thead>\n",
       "    <tr style=\"text-align: right;\">\n",
       "      <th></th>\n",
       "      <th>Name</th>\n",
       "      <th>Age</th>\n",
       "    </tr>\n",
       "  </thead>\n",
       "  <tbody>\n",
       "    <tr>\n",
       "      <th>630</th>\n",
       "      <td>Barkworth, Mr. Algernon Henry Wilson</td>\n",
       "      <td>80.0</td>\n",
       "    </tr>\n",
       "  </tbody>\n",
       "</table>\n",
       "</div>"
      ],
      "text/plain": [
       "                                     Name   Age\n",
       "630  Barkworth, Mr. Algernon Henry Wilson  80.0"
      ]
     },
     "execution_count": 11,
     "metadata": {},
     "output_type": "execute_result"
    }
   ],
   "source": [
    "# penumpang tertua\n",
    "umur_tertua = df['Age'].max()\n",
    "penumpang_tertua = df[df['Age'] == umur_tertua][['Name', 'Age']]\n",
    "(f\"Umur tertua penumpang: {umur_tertua} tahun\")\n",
    "penumpang_tertua\n"
   ]
  },
  {
   "cell_type": "code",
   "execution_count": 12,
   "id": "3e108bf4",
   "metadata": {},
   "outputs": [
    {
     "data": {
      "text/plain": [
       "Sex\n",
       "male      577\n",
       "female    314\n",
       "Name: count, dtype: int64"
      ]
     },
     "execution_count": 12,
     "metadata": {},
     "output_type": "execute_result"
    }
   ],
   "source": [
    "# d. Jumlah penumpang berjenis kelamin pria dan wanita\n",
    "gender_counts = df['Sex'].value_counts()\n",
    "gender_counts"
   ]
  },
  {
   "cell_type": "code",
   "execution_count": 13,
   "id": "58ea3c61",
   "metadata": {},
   "outputs": [
    {
     "data": {
      "text/plain": [
       "({1: 216, 2: 184, 3: 491},)"
      ]
     },
     "execution_count": 13,
     "metadata": {},
     "output_type": "execute_result"
    }
   ],
   "source": [
    "# e. Jumlah penumpang berdasarkan kelas\n",
    "class_counts = df['Pclass'].value_counts().sort_index()\n",
    "class_percentage = (class_counts / total_passengers * 100).round(2)\n",
    "class_counts.to_dict(),"
   ]
  },
  {
   "cell_type": "code",
   "execution_count": 14,
   "id": "9b8d3ef4",
   "metadata": {},
   "outputs": [
    {
     "data": {
      "text/plain": [
       "'24.24%'"
      ]
     },
     "execution_count": 14,
     "metadata": {},
     "output_type": "execute_result"
    }
   ],
   "source": [
    "# presentase kelas 1\n",
    "f\"{class_percentage[1]}%\""
   ]
  },
  {
   "cell_type": "code",
   "execution_count": null,
   "id": "65203abc",
   "metadata": {},
   "outputs": [
    {
     "name": "stderr",
     "output_type": "stream",
     "text": [
      "C:\\Users\\USER\\AppData\\Local\\Temp\\ipykernel_8032\\408166152.py:4: FutureWarning: \n",
      "\n",
      "Passing `palette` without assigning `hue` is deprecated and will be removed in v0.14.0. Assign the `x` variable to `hue` and set `legend=False` for the same effect.\n",
      "\n",
      "  sns.countplot(x='Survived', data=df, palette='Set2')\n"
     ]
    },
    {
     "data": {
      "image/png": "[encoded data removed]",
      "text/plain": [
       "<Figure size 1500x1000 with 1 Axes>"
      ]
     },
     "metadata": {},
     "output_type": "display_data"
    }
   ],
   "source": [
    "# 1: Survival\n",
    "plt.figure(figsize=(15, 10))\n",
    "plt.subplot(2, 2, 1)\n",
    "sns.countplot(x='Survived', data=df, palette='Set2')\n",
    "plt.xticks([0, 1], ['Tidak Selamat', 'Selamat'])\n",
    "plt.title('Jumlah Penumpang Selamat vs Tidak Selamat')\n",
    "\n",
    "plt.show()"
   ]
  },
  {
   "cell_type": "code",
   "execution_count": null,
   "id": "518a61f9",
   "metadata": {},
   "outputs": [
    {
     "name": "stderr",
     "output_type": "stream",
     "text": [
      "C:\\Users\\USER\\AppData\\Local\\Temp\\ipykernel_8032\\2314175602.py:4: FutureWarning: \n",
      "\n",
      "Passing `palette` without assigning `hue` is deprecated and will be removed in v0.14.0. Assign the `x` variable to `hue` and set `legend=False` for the same effect.\n",
      "\n",
      "  sns.countplot(x='Sex', data=df, palette='Set1')\n"
     ]
    },
    {
     "data": {
      "image/png": "[encoded data removed]",
      "text/plain": [
       "<Figure size 1500x1000 with 1 Axes>"
      ]
     },
     "metadata": {},
     "output_type": "display_data"
    }
   ],
   "source": [
    "# 2: Gender\n",
    "plt.figure(figsize=(15, 10))\n",
    "plt.subplot(2, 2, 2)\n",
    "sns.countplot(x='Sex', data=df, palette='Set1')\n",
    "plt.title('Distribusi Jenis Kelamin Penumpang')\n",
    "plt.show()"
   ]
  },
  {
   "cell_type": "code",
   "execution_count": null,
   "id": "247906e7",
   "metadata": {},
   "outputs": [
    {
     "name": "stderr",
     "output_type": "stream",
     "text": [
      "C:\\Users\\USER\\AppData\\Local\\Temp\\ipykernel_8032\\3720562528.py:4: FutureWarning: \n",
      "\n",
      "Passing `palette` without assigning `hue` is deprecated and will be removed in v0.14.0. Assign the `x` variable to `hue` and set `legend=False` for the same effect.\n",
      "\n",
      "  sns.countplot(x='Pclass', data=df, palette='Set3')\n"
     ]
    },
    {
     "data": {
      "image/png": "[encoded data removed]",
      "text/plain": [
       "<Figure size 1500x1000 with 1 Axes>"
      ]
     },
     "metadata": {},
     "output_type": "display_data"
    }
   ],
   "source": [
    "# 3: Class\n",
    "plt.figure(figsize=(15, 10))\n",
    "plt.subplot(2, 2, 3)\n",
    "sns.countplot(x='Pclass', data=df, palette='Set3')\n",
    "plt.title('Jumlah Penumpang Berdasarkan Kelas')\n",
    "plt.show()"
   ]
  },
  {
   "cell_type": "markdown",
   "id": "8d0da7c6",
   "metadata": {},
   "source": [
    "## 2. Prepocessing"
   ]
  },
  {
   "cell_type": "code",
   "execution_count": null,
   "id": "5c0bda16",
   "metadata": {},
   "outputs": [
    {
     "data": {
      "text/plain": [
       "PassengerId      0\n",
       "Survived         0\n",
       "Pclass           0\n",
       "Name             0\n",
       "Sex              0\n",
       "Age            177\n",
       "SibSp            0\n",
       "Parch            0\n",
       "Ticket           0\n",
       "Fare             0\n",
       "Cabin          687\n",
       "Embarked         2\n",
       "dtype: int64"
      ]
     },
     "execution_count": 18,
     "metadata": {},
     "output_type": "execute_result"
    }
   ],
   "source": [
    "# a. missing values\n",
    "missing_values = df.isnull().sum()\n",
    "missing_values"
   ]
  },
  {
   "cell_type": "markdown",
   "id": "b2837401",
   "metadata": {},
   "source": [
    "b. Menangani missing values\n",
    "- Untuk kolom umur atau age saya tangani missing value dengan menggunakan median, karena pada kolom umur memiliki oulier dan distribusi yang tidak simetris, maka saya menggunakan median agar lebih stabil.\n",
    "- Untuk kolom Embarked saya isi dengan modus, karena data kategori, jadi nilai yang sering muncul dianggap tepat.\n",
    "- untuk kolom cabin saya drop, karena terdapat banyak sekali missing value sekitar 77%, jadi saya drop agar hasil tidak menadi bias"
   ]
  },
  {
   "cell_type": "code",
   "execution_count": 19,
   "id": "7e6d2ce6",
   "metadata": {},
   "outputs": [
    {
     "name": "stderr",
     "output_type": "stream",
     "text": [
      "C:\\Users\\USER\\AppData\\Local\\Temp\\ipykernel_8032\\1569508982.py:4: FutureWarning: A value is trying to be set on a copy of a DataFrame or Series through chained assignment using an inplace method.\n",
      "The behavior will change in pandas 3.0. This inplace method will never work because the intermediate object on which we are setting values always behaves as a copy.\n",
      "\n",
      "For example, when doing 'df[col].method(value, inplace=True)', try using 'df.method({col: value}, inplace=True)' or df[col] = df[col].method(value) instead, to perform the operation inplace on the original object.\n",
      "\n",
      "\n",
      "  df['Age'].fillna(df['Age'].median(), inplace=True)\n",
      "C:\\Users\\USER\\AppData\\Local\\Temp\\ipykernel_8032\\1569508982.py:7: FutureWarning: A value is trying to be set on a copy of a DataFrame or Series through chained assignment using an inplace method.\n",
      "The behavior will change in pandas 3.0. This inplace method will never work because the intermediate object on which we are setting values always behaves as a copy.\n",
      "\n",
      "For example, when doing 'df[col].method(value, inplace=True)', try using 'df.method({col: value}, inplace=True)' or df[col] = df[col].method(value) instead, to perform the operation inplace on the original object.\n",
      "\n",
      "\n",
      "  df['Embarked'].fillna(df['Embarked'].mode()[0], inplace=True)\n"
     ]
    },
    {
     "data": {
      "text/plain": [
       "({'PassengerId': 0,\n",
       "  'Survived': 0,\n",
       "  'Pclass': 0,\n",
       "  'Name': 0,\n",
       "  'Sex': 0,\n",
       "  'Age': 0,\n",
       "  'SibSp': 0,\n",
       "  'Parch': 0,\n",
       "  'Ticket': 0,\n",
       "  'Fare': 0,\n",
       "  'Embarked': 0},)"
      ]
     },
     "execution_count": 19,
     "metadata": {},
     "output_type": "execute_result"
    }
   ],
   "source": [
    "# b. Tangani missing values\n",
    "\n",
    "# Umur saya isi dengan median\n",
    "df['Age'].fillna(df['Age'].median(), inplace=True)\n",
    "\n",
    "# Embarked saya isi dengan modus \n",
    "df['Embarked'].fillna(df['Embarked'].mode()[0], inplace=True)\n",
    "\n",
    "# Karena cabin terlalu banyak yang kosong jadi saya drop\n",
    "df_cleaned = df.drop(columns=['Cabin'])\n",
    "\n",
    "# Cek kembali missing values setelah penanganan\n",
    "missing_values_after = df_cleaned.isnull().sum()\n",
    "missing_values_after.to_dict(),"
   ]
  },
  {
   "cell_type": "markdown",
   "id": "40deed2c",
   "metadata": {},
   "source": [
    "C. Terdapat outlier pada: 66 outlier pada umur dan 166 outlier pada fare\n",
    "Outlier adalah nilai yang jauh berbeda dari nilai lainnya dalam kumpulan data\n",
    "    "
   ]
  },
  {
   "cell_type": "code",
   "execution_count": null,
   "id": "e6e024ba",
   "metadata": {},
   "outputs": [
    {
     "name": "stdout",
     "output_type": "stream",
     "text": [
      "Jumlah Outlier:\n",
      "Age      66\n",
      "Fare    116\n",
      "dtype: int64\n"
     ]
    }
   ],
   "source": [
    "# Q1, Q3 dan IQR\n",
    "Q1 = df_cleaned[['Age', 'Fare']].quantile(0.25)\n",
    "Q3 = df_cleaned[['Age', 'Fare']].quantile(0.75)\n",
    "IQR = Q3 - Q1\n",
    "\n",
    "# batas bawah dan atas\n",
    "lower_bound = Q1 - 1.5 * IQR\n",
    "upper_bound = Q3 + 1.5 * IQR\n",
    "\n",
    "# deteksi outlier\n",
    "outlier_mask = (df_cleaned[['Age', 'Fare']] < lower_bound) | (df_cleaned[['Age', 'Fare']] > upper_bound)\n",
    "\n",
    "# jumlah outlier\n",
    "outlier_counts = outlier_mask.sum()\n",
    "print(\"Jumlah Outlier:\")\n",
    "print(outlier_counts)\n"
   ]
  },
  {
   "cell_type": "markdown",
   "id": "e5abb291",
   "metadata": {},
   "source": [
    "D. apakah outlier perlu diatasi?, jadi jawabannya adalah tergantung model. Apabila seperti Decision Tree tahan terhadap outlier, tetapi Regresi dan KNN sangat sensitif."
   ]
  },
  {
   "cell_type": "code",
   "execution_count": null,
   "id": "2d6ba8c1",
   "metadata": {},
   "outputs": [
    {
     "name": "stdout",
     "output_type": "stream",
     "text": [
      "Jumlah data sebelum dibuang outlier: 891\n",
      "Jumlah data setelah dibuang outlier: 721\n"
     ]
    }
   ],
   "source": [
    "# Q1, Q3, dan IQR untuk Age dan Fare\n",
    "Q1 = df_cleaned[['Age', 'Fare']].quantile(0.25)\n",
    "Q3 = df_cleaned[['Age', 'Fare']].quantile(0.75)\n",
    "IQR = Q3 - Q1\n",
    "\n",
    "# Batas bawah dan atas\n",
    "lower_bound = Q1 - 1.5 * IQR\n",
    "upper_bound = Q3 + 1.5 * IQR\n",
    "\n",
    "# filter (mask) untuk data yang bukan outlier\n",
    "mask = ~((df_cleaned[['Age', 'Fare']] < lower_bound) | (df_cleaned[['Age', 'Fare']] > upper_bound)).any(axis=1)\n",
    "\n",
    "# dataframe baru tanpa outlier\n",
    "df_no_outlier = df_cleaned[mask].copy()\n",
    "\n",
    "# jumlah data setelah outlier dibuang\n",
    "print(f\"Jumlah data sebelum dibuang outlier: {len(df_cleaned)}\")\n",
    "print(f\"Jumlah data setelah dibuang outlier: {len(df_no_outlier)}\")\n"
   ]
  },
  {
   "cell_type": "markdown",
   "id": "63e4a734",
   "metadata": {},
   "source": [
    "e. saya akan mengscaling data karena Fare memiliki distribusi sangat miring dan bernilai besat, age dan Fare sangat berbeda skala, jika saya menggunakan model sperti KNN, SVM, Logistic Regression itu sangat dipengaruhi oleh skala data"
   ]
  },
  {
   "cell_type": "code",
   "execution_count": 22,
   "id": "3ce6827a",
   "metadata": {},
   "outputs": [
    {
     "name": "stdout",
     "output_type": "stream",
     "text": [
      "                Age          Fare\n",
      "count  7.210000e+02  7.210000e+02\n",
      "mean  -1.872443e-16  5.420229e-17\n",
      "std    1.000694e+00  1.000694e+00\n",
      "min   -2.505671e+00 -1.283040e+00\n",
      "25%   -6.085180e-01 -7.004801e-01\n",
      "50%   -9.417211e-03 -3.773784e-01\n",
      "75%    4.898335e-01  6.352657e-01\n",
      "max    2.586686e+00  3.512724e+00\n"
     ]
    }
   ],
   "source": [
    "from sklearn.preprocessing import StandardScaler\n",
    "\n",
    "# Mengcopy daata\n",
    "df_scaled = df_no_outlier.copy()\n",
    "\n",
    "# Inisialisasi scaler\n",
    "scaler = StandardScaler()\n",
    "\n",
    "# Kolom yang akan discaling\n",
    "numerical_features = ['Age', 'Fare']\n",
    "\n",
    "# Scaling\n",
    "df_scaled[numerical_features] = scaler.fit_transform(df_scaled[numerical_features])\n",
    "print(df_scaled[numerical_features].describe())\n"
   ]
  },
  {
   "cell_type": "markdown",
   "id": "dd91371c",
   "metadata": {},
   "source": [
    "## 3. Modelling"
   ]
  },
  {
   "cell_type": "markdown",
   "id": "80e44e1a",
   "metadata": {},
   "source": [
    "a. Data training adalah adata yang digunakan untuk melaatih model\n",
    "data testing adalah data yang digynakan untuk mengukur peforma model\n",
    "Mengapa perlu untuk dibagi? Karena Untuk mengevaluasi seberapa baik model mempelajari pola dari data, tanpa overfitting dan Untuk mengukur akurasi model terhadap data baru yang belum pernah dilihat sebelumnya"
   ]
  },
  {
   "cell_type": "markdown",
   "id": "634f1bee",
   "metadata": {},
   "source": [
    "b. Saya sendiri menggunakan pembagian yang umum digunakan yaitu, 80% data training dan 20% data testing. Kenapa memilih 80:20, karena memberikan Keseimbangan yang optimal untuk dataset dengan ukuran sedang seperti Titanic "
   ]
  },
  {
   "cell_type": "code",
   "execution_count": 23,
   "id": "30feec20",
   "metadata": {},
   "outputs": [
    {
     "name": "stdout",
     "output_type": "stream",
     "text": [
      "Jumlah data training: 576\n",
      "Jumlah data testing: 145\n"
     ]
    }
   ],
   "source": [
    "from sklearn.model_selection import train_test_split\n",
    "\n",
    "X = df_scaled.drop('Survived', axis=1)\n",
    "y = df_scaled['Survived']\n",
    "\n",
    "X_train, X_test, y_train, y_test = train_test_split(\n",
    "    X, y, test_size=0.2, random_state=42, stratify=y)\n",
    "\n",
    "print(f\"Jumlah data training: {len(X_train)}\")\n",
    "print(f\"Jumlah data testing: {len(X_test)}\")\n"
   ]
  },
  {
   "cell_type": "markdown",
   "id": "700ec4ba",
   "metadata": {},
   "source": [
    "c. 1. Logistic Regression\n",
    "Model ini digunakan untuk klasifikasi biner. Ia menghitung probabilitas kelas target menggunakan fungsi sigmoid, lalu menentukan kelas berdasarkan ambang batas (biasanya 0.5)\n",
    "2. Random Forest Classifier\n",
    "Model ini adalah ensembel dari banyak pohon keputusan. Setiap pohon dilatih dengan subset data yang berbeda (bagging), dan hasil akhirnya ditentukan dengan voting dari semua pohon.\n",
    "3. KNN bekerja dengan mencari K tetangga terdekat dari titik data baru, lalu memberikan label berdasarkan mayoritas label tetangga tersebut. Ia tidak belajar pola secara eksplisit, hanya mengandalkan jarak antar titik."
   ]
  },
  {
   "cell_type": "code",
   "execution_count": null,
   "id": "affa2c78",
   "metadata": {},
   "outputs": [
    {
     "name": "stderr",
     "output_type": "stream",
     "text": [
      "C:\\Users\\USER\\AppData\\Local\\Temp\\ipykernel_8032\\1021544326.py:14: FutureWarning: A value is trying to be set on a copy of a DataFrame or Series through chained assignment using an inplace method.\n",
      "The behavior will change in pandas 3.0. This inplace method will never work because the intermediate object on which we are setting values always behaves as a copy.\n",
      "\n",
      "For example, when doing 'df[col].method(value, inplace=True)', try using 'df.method({col: value}, inplace=True)' or df[col] = df[col].method(value) instead, to perform the operation inplace on the original object.\n",
      "\n",
      "\n",
      "  data['Embarked'].fillna(data['Embarked'].mode()[0], inplace=True)\n"
     ]
    },
    {
     "data": {
      "text/plain": [
       "(array([[-1.56610693,  0.73769513,  1.24023486, -0.4745452 , -0.47367361,\n",
       "         -0.07458307,  0.58595414],\n",
       "        [-0.36936484,  0.73769513, -0.48888662, -0.4745452 , -0.47367361,\n",
       "         -0.38667072,  0.58595414],\n",
       "        [ 0.82737724,  0.73769513,  0.20276197, -0.4745452 , -0.47367361,\n",
       "         -0.48885426,  0.58595414],\n",
       "        [ 0.82737724,  0.73769513, -0.25833709,  0.43279337, -0.47367361,\n",
       "         -0.49027979,  0.58595414],\n",
       "        [ 0.82737724, -1.35557354, -1.79533395,  3.15480905,  2.00893337,\n",
       "         -0.01870931,  0.58595414]]),\n",
       " 331    0\n",
       " 733    0\n",
       " 382    0\n",
       " 704    0\n",
       " 813    0\n",
       " Name: Survived, dtype: int64)"
      ]
     },
     "execution_count": 25,
     "metadata": {},
     "output_type": "execute_result"
    }
   ],
   "source": [
    "from sklearn.model_selection import train_test_split\n",
    "from sklearn.preprocessing import LabelEncoder, StandardScaler\n",
    "from sklearn.impute import SimpleImputer\n",
    "\n",
    "# Salin dataset\n",
    "data = df.copy()\n",
    "\n",
    "# Hapus kolom yang tidak relevan untuk prediksi\n",
    "data.drop(columns=['PassengerId', 'Name', 'Ticket', 'Cabin'], inplace=True)\n",
    "\n",
    "# missing value\n",
    "imputer = SimpleImputer(strategy='mean')\n",
    "data['Age'] = imputer.fit_transform(data[['Age']])\n",
    "data['Embarked'].fillna(data['Embarked'].mode()[0], inplace=True)\n",
    "\n",
    "# Encode kolom kategorikal\n",
    "le_sex = LabelEncoder()\n",
    "le_embarked = LabelEncoder()\n",
    "data['Sex'] = le_sex.fit_transform(data['Sex'])\n",
    "data['Embarked'] = le_embarked.fit_transform(data['Embarked'])\n",
    "\n",
    "# Pisahkan fitur dan target\n",
    "X = data.drop('Survived', axis=1)\n",
    "y = data['Survived']\n",
    "\n",
    "# Normalisasi fitur numerik\n",
    "scaler = StandardScaler()\n",
    "X_scaled = scaler.fit_transform(X)\n",
    "\n",
    "# data menjadi data latih dan uji\n",
    "X_train, X_test, y_train, y_test = train_test_split(X_scaled, y, test_size=0.2, random_state=42)\n",
    "\n",
    "X_train[:5], y_train[:5]\n"
   ]
  },
  {
   "cell_type": "code",
   "execution_count": 27,
   "id": "11a7ad6a",
   "metadata": {},
   "outputs": [
    {
     "data": {
      "text/plain": [
       "array([0, 0, 0, 1, 1, 1, 1, 0, 1, 1, 0, 0, 0, 0, 0, 1, 0, 1, 0, 0, 0, 0,\n",
       "       1, 0, 0, 0, 0, 0, 0, 1, 0, 1, 1, 1, 0, 0, 0, 1, 1, 0, 0, 0, 0, 0,\n",
       "       1, 0, 0, 0, 0, 0, 1, 1, 0, 0, 0, 1, 0, 1, 1, 1, 0, 1, 1, 0, 0, 1,\n",
       "       0, 0, 0, 1, 1, 1, 1, 1, 0, 0, 1, 1, 1, 0, 0, 1, 1, 0, 0, 0, 1, 1,\n",
       "       0, 0, 0, 0, 0, 0, 0, 0, 0, 0, 1, 0, 0, 0, 1, 0, 0, 0, 1, 0, 0, 0,\n",
       "       1, 0, 1, 0, 1, 0, 0, 0, 1, 0, 0, 1, 1, 0, 0, 1, 1, 1, 1, 0, 1, 0,\n",
       "       0, 1, 0, 1, 1, 0, 0, 1, 0, 1, 0, 0, 0, 1, 0, 0, 1, 0, 0, 0, 0, 1,\n",
       "       0, 0, 0, 1, 1, 1, 0, 0, 0, 1, 0, 0, 0, 1, 0, 0, 1, 1, 0, 1, 0, 0,\n",
       "       0, 1, 1])"
      ]
     },
     "execution_count": 27,
     "metadata": {},
     "output_type": "execute_result"
    }
   ],
   "source": [
    "# latih model Logistic Regression\n",
    "logreg = LogisticRegression(max_iter=200)\n",
    "logreg.fit(X_train, y_train)\n",
    "\n",
    "# Prediksi\n",
    "y_pred_logreg = logreg.predict(X_test)\n",
    "y_pred_logreg\n"
   ]
  },
  {
   "cell_type": "code",
   "execution_count": 28,
   "id": "d0b51894",
   "metadata": {},
   "outputs": [
    {
     "data": {
      "text/plain": [
       "array([0, 0, 0, 1, 0, 1, 1, 0, 1, 1, 1, 0, 0, 0, 0, 1, 0, 1, 0, 0, 0, 1,\n",
       "       0, 0, 0, 0, 0, 0, 0, 0, 0, 1, 1, 1, 0, 0, 1, 1, 1, 0, 0, 0, 0, 0,\n",
       "       0, 0, 0, 0, 0, 0, 1, 1, 0, 1, 0, 1, 0, 1, 1, 0, 0, 1, 1, 0, 0, 1,\n",
       "       0, 0, 0, 1, 1, 1, 1, 1, 0, 0, 1, 1, 1, 1, 0, 1, 1, 0, 0, 0, 1, 1,\n",
       "       0, 0, 0, 0, 0, 0, 0, 0, 0, 0, 1, 0, 0, 0, 1, 0, 0, 1, 1, 0, 0, 0,\n",
       "       1, 0, 1, 1, 0, 0, 0, 0, 1, 0, 0, 1, 1, 1, 0, 0, 1, 0, 0, 0, 1, 0,\n",
       "       0, 1, 1, 0, 1, 0, 0, 0, 0, 1, 1, 0, 0, 1, 0, 1, 1, 0, 0, 0, 0, 1,\n",
       "       0, 0, 0, 1, 1, 1, 0, 0, 0, 1, 0, 0, 0, 1, 0, 0, 0, 1, 1, 1, 0, 0,\n",
       "       0, 1, 1])"
      ]
     },
     "execution_count": 28,
     "metadata": {},
     "output_type": "execute_result"
    }
   ],
   "source": [
    "# latih model Random Forest\n",
    "rf = RandomForestClassifier(n_estimators=100, random_state=42)\n",
    "rf.fit(X_train, y_train)\n",
    "\n",
    "# Prediksi\n",
    "y_pred_rf = rf.predict(X_test)\n",
    "y_pred_rf"
   ]
  },
  {
   "cell_type": "code",
   "execution_count": 29,
   "id": "b394c2fb",
   "metadata": {},
   "outputs": [
    {
     "data": {
      "text/plain": [
       "array([0, 0, 0, 1, 0, 1, 1, 0, 1, 1, 0, 0, 0, 0, 0, 1, 0, 1, 0, 0, 0, 0,\n",
       "       0, 0, 0, 0, 0, 0, 0, 0, 0, 1, 0, 0, 0, 0, 1, 1, 1, 0, 0, 0, 0, 0,\n",
       "       1, 0, 0, 0, 0, 0, 1, 1, 0, 1, 0, 1, 0, 1, 1, 1, 0, 1, 1, 1, 0, 1,\n",
       "       0, 0, 1, 1, 1, 1, 0, 1, 0, 0, 1, 1, 1, 1, 0, 1, 1, 0, 0, 0, 1, 1,\n",
       "       0, 0, 1, 0, 0, 0, 0, 0, 0, 0, 1, 1, 0, 0, 1, 0, 0, 0, 1, 0, 0, 0,\n",
       "       1, 0, 1, 0, 1, 0, 0, 0, 1, 1, 0, 1, 1, 1, 0, 0, 1, 1, 1, 0, 1, 0,\n",
       "       0, 0, 1, 0, 1, 0, 0, 0, 0, 1, 0, 0, 0, 1, 0, 0, 1, 0, 0, 0, 0, 1,\n",
       "       0, 0, 1, 1, 1, 1, 0, 1, 0, 1, 0, 0, 0, 1, 0, 0, 0, 1, 0, 1, 0, 0,\n",
       "       0, 1, 1])"
      ]
     },
     "execution_count": 29,
     "metadata": {},
     "output_type": "execute_result"
    }
   ],
   "source": [
    "#latih model KNN\n",
    "knn = KNeighborsClassifier(n_neighbors=5)\n",
    "knn.fit(X_train, y_train)\n",
    "\n",
    "# Prediksi\n",
    "y_pred_knn = knn.predict(X_test)\n",
    "y_pred_knn"
   ]
  },
  {
   "cell_type": "markdown",
   "id": "ef732a91",
   "metadata": {},
   "source": [
    "d. - Accracy\n",
    "presentase prediksi yang benar dari semua data.\n",
    "- Precision \n",
    "Dari data yang diprediksi posifit, berapa yang benar benar positif\n",
    "- Recall\n",
    "Dari semua data yang benar benar posif, berapa yang berhasil diprediksi\n",
    "- F1 Score\n",
    "Rata-rata harmonik  dari precision dan recall"
   ]
  },
  {
   "cell_type": "code",
   "execution_count": 30,
   "id": "40cd4427",
   "metadata": {},
   "outputs": [
    {
     "name": "stdout",
     "output_type": "stream",
     "text": [
      "=== Logistic Regression ===\n",
      "Accuracy : 0.804\n",
      "Precision: 0.783\n",
      "Recall   : 0.730\n",
      "F1 Score : 0.755\n",
      "\n",
      "=== Random Forest ===\n",
      "Accuracy : 0.816\n",
      "Precision: 0.797\n",
      "Recall   : 0.743\n",
      "F1 Score : 0.769\n",
      "\n",
      "=== K-Nearest Neighbors ===\n",
      "Accuracy : 0.799\n",
      "Precision: 0.771\n",
      "Recall   : 0.730\n",
      "F1 Score : 0.750\n"
     ]
    }
   ],
   "source": [
    "# Evaluasi Logistic Regression\n",
    "accuracy_logreg = accuracy_score(y_test, y_pred_logreg)\n",
    "precision_logreg = precision_score(y_test, y_pred_logreg)\n",
    "recall_logreg = recall_score(y_test, y_pred_logreg)\n",
    "f1_logreg = f1_score(y_test, y_pred_logreg)\n",
    "\n",
    "# Evaluasi Random Forest\n",
    "accuracy_rf = accuracy_score(y_test, y_pred_rf)\n",
    "precision_rf = precision_score(y_test, y_pred_rf)\n",
    "recall_rf = recall_score(y_test, y_pred_rf)\n",
    "f1_rf = f1_score(y_test, y_pred_rf)\n",
    "\n",
    "# Evaluasi KNN\n",
    "accuracy_knn = accuracy_score(y_test, y_pred_knn)\n",
    "precision_knn = precision_score(y_test, y_pred_knn)\n",
    "recall_knn = recall_score(y_test, y_pred_knn)\n",
    "f1_knn = f1_score(y_test, y_pred_knn)\n",
    "\n",
    "# Tampilkan hasil\n",
    "print(\"=== Logistic Regression ===\")\n",
    "print(f\"Accuracy : {accuracy_logreg:.3f}\")\n",
    "print(f\"Precision: {precision_logreg:.3f}\")\n",
    "print(f\"Recall   : {recall_logreg:.3f}\")\n",
    "print(f\"F1 Score : {f1_logreg:.3f}\\n\")\n",
    "\n",
    "print(\"=== Random Forest ===\")\n",
    "print(f\"Accuracy : {accuracy_rf:.3f}\")\n",
    "print(f\"Precision: {precision_rf:.3f}\")\n",
    "print(f\"Recall   : {recall_rf:.3f}\")\n",
    "print(f\"F1 Score : {f1_rf:.3f}\\n\")\n",
    "\n",
    "print(\"=== K-Nearest Neighbors ===\")\n",
    "print(f\"Accuracy : {accuracy_knn:.3f}\")\n",
    "print(f\"Precision: {precision_knn:.3f}\")\n",
    "print(f\"Recall   : {recall_knn:.3f}\")\n",
    "print(f\"F1 Score : {f1_knn:.3f}\")\n"
   ]
  },
  {
   "cell_type": "markdown",
   "id": "a6b76450",
   "metadata": {},
   "source": [
    "e. Dari hasil ketiga algoritma yang telah saya coba Random Forest memberikan hasil terbaik karena mampu menangkap pola kompleks dalam data ini, terutaa interaksi antar fitur seperti kelas, usia, jenis kelamin, dan jumlah keluargaa"
   ]
  },
  {
   "cell_type": "markdown",
   "id": "f0c9a1e7",
   "metadata": {},
   "source": [
    "## 4. Evaluasi"
   ]
  },
  {
   "cell_type": "code",
   "execution_count": 32,
   "id": "0d316e7a",
   "metadata": {},
   "outputs": [
    {
     "name": "stdout",
     "output_type": "stream",
     "text": [
      "Classification Report - Random Forest\n",
      "Precision (Selamat): 0.797\n",
      "Recall    (Selamat): 0.743\n"
     ]
    }
   ],
   "source": [
    "# a.classification report model terbaik\n",
    "from sklearn.metrics import classification_report\n",
    "\n",
    "# classification report untuk Random Forest\n",
    "report = classification_report(y_test, y_pred_rf, target_names=['Tidak Selamat', 'Selamat'], output_dict=True)\n",
    "\n",
    "# Ambil precision dan recall untuk label \"Selamat\"\n",
    "precision_selamat = report['Selamat']['precision']\n",
    "recall_selamat = report['Selamat']['recall']\n",
    "\n",
    "# Tampilkan hasil\n",
    "print(\"Classification Report - Random Forest\")\n",
    "print(f\"Precision (Selamat): {precision_selamat:.3f}\")\n",
    "print(f\"Recall    (Selamat): {recall_selamat:.3f}\")\n"
   ]
  },
  {
   "cell_type": "code",
   "execution_count": 34,
   "id": "6bd0af0d",
   "metadata": {},
   "outputs": [
    {
     "name": "stdout",
     "output_type": "stream",
     "text": [
      "Jumlah penumpang yang diprediksi selamat: 69\n",
      "Jumlah penumpang yang benar-benar selamat dari prediksi tersebut: 55\n"
     ]
    }
   ],
   "source": [
    "# b. prediksi selamat, dan berapa di antaranya benar-benar selamat\n",
    "# jumlah penumpang yang diprediksi selamat (label = 1)\n",
    "predicted_selamat = (y_pred_rf == 1).sum()\n",
    "\n",
    "# jumlah penumpang yang diprediksi selamat dan benar-benar selamat\n",
    "true_positives = ((y_pred_rf == 1) & (y_test == 1)).sum()\n",
    "\n",
    "print(f\"Jumlah penumpang yang diprediksi selamat: {predicted_selamat}\")\n",
    "print(f\"Jumlah penumpang yang benar-benar selamat dari prediksi tersebut: {true_positives}\")\n"
   ]
  }
 ],
 "metadata": {
  "kernelspec": {
   "display_name": "Python 3",
   "language": "python",
   "name": "python3"
  },
  "language_info": {
   "codemirror_mode": {
    "name": "ipython",
    "version": 3
   },
   "file_extension": ".py",
   "mimetype": "text/x-python",
   "name": "python",
   "nbconvert_exporter": "python",
   "pygments_lexer": "ipython3",
   "version": "3.13.2"
  }
 },
 "nbformat": 4,
 "nbformat_minor": 5
}
